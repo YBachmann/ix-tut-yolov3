{
  "nbformat": 4,
  "nbformat_minor": 0,
  "metadata": {
    "colab": {
      "name": "ix-objectdetect-tut3-01.ipynb",
      "provenance": [],
      "collapsed_sections": [],
      "toc_visible": true
    },
    "kernelspec": {
      "name": "python3",
      "display_name": "Python 3"
    }
  },
  "cells": [
    {
      "cell_type": "markdown",
      "metadata": {
        "id": "UcWPE4j_Xnor",
        "colab_type": "text"
      },
      "source": [
        "## Keras Modell Konvertieren\n",
        "Für die Nutzung des trainierten Keras Modells auf anderen Hardware-Plattformen ist es sinnvoll, dieses in das Open Neural Network Exchange (ONNX) Format zu konvertieren. "
      ]
    },
    {
      "cell_type": "markdown",
      "metadata": {
        "id": "zYZjmn3FlktM",
        "colab_type": "text"
      },
      "source": [
        "### Zugriff auf Cloud Speicher\n",
        "Um die Modell-Daten Notebook-übergreifend zu speichern, wird Google Drive genutzt, welches wie folgt innerhalb von Google Colab gemountet werden kann:"
      ]
    },
    {
      "cell_type": "code",
      "metadata": {
        "id": "u27HkKR9X31X",
        "colab_type": "code",
        "colab": {
          "base_uri": "https://localhost:8080/",
          "height": 120
        },
        "outputId": "787f1e2f-a1df-4633-d4c1-0de26c0ca2f9"
      },
      "source": [
        "from google.colab import drive\n",
        "drive.mount('/content/drive', force_remount=True)"
      ],
      "execution_count": 1,
      "outputs": [
        {
          "output_type": "stream",
          "text": [
            "Go to this URL in a browser: https://accounts.google.com/o/oauth2/auth?client_id=947318989803-6bn6qk8qdgf4n4g3pfee6491hc0brc4i.apps.googleusercontent.com&redirect_uri=urn%3aietf%3awg%3aoauth%3a2.0%3aoob&response_type=code&scope=email%20https%3a%2f%2fwww.googleapis.com%2fauth%2fdocs.test%20https%3a%2f%2fwww.googleapis.com%2fauth%2fdrive%20https%3a%2f%2fwww.googleapis.com%2fauth%2fdrive.photos.readonly%20https%3a%2f%2fwww.googleapis.com%2fauth%2fpeopleapi.readonly\n",
            "\n",
            "Enter your authorization code:\n",
            "··········\n",
            "Mounted at /content/drive\n"
          ],
          "name": "stdout"
        }
      ]
    },
    {
      "cell_type": "markdown",
      "metadata": {
        "id": "Gh7yRpuFl000",
        "colab_type": "text"
      },
      "source": [
        "### Modell-Pfad\n",
        "Die trainierten tf.keras-Modelle liegen in folgendem Verzeichnis:"
      ]
    },
    {
      "cell_type": "code",
      "metadata": {
        "id": "lN79YDzCYBhV",
        "colab_type": "code",
        "colab": {
          "base_uri": "https://localhost:8080/",
          "height": 133
        },
        "outputId": "b0340466-b48f-4ddf-c7d3-5292d0080101"
      },
      "source": [
        "%cd /content/drive/My\\ Drive/data/ix-tut-model/\n",
        "!ls -ls"
      ],
      "execution_count": 22,
      "outputs": [
        {
          "output_type": "stream",
          "text": [
            "/content/drive/My Drive/data/ix-tut-model\n",
            "total 240878\n",
            "     4 drwx------ 3 root root      4096 Apr 13 10:57 old\n",
            "    58 -rw------- 1 root root     59145 Apr 13 11:47 starwars_yolov3.data-00000-of-00002\n",
            "240617 -rw------- 1 root root 246391528 Apr 13 11:47 starwars_yolov3.data-00001-of-00002\n",
            "    24 -rw------- 1 root root     24271 Apr 13 11:47 starwars_yolov3.index\n",
            "   175 -rw------- 1 root root    178754 Apr 13 11:47 starwars_yolov3.json\n"
          ],
          "name": "stdout"
        }
      ]
    },
    {
      "cell_type": "markdown",
      "metadata": {
        "id": "OacpA6QPmEnA",
        "colab_type": "text"
      },
      "source": [
        "### Installation Tensorflow\n",
        "An dieser Stelle wird Tensorflow in der älteren Version 1.15.2 genutzt, da der Keras2ONNX-Konverter noch Probleme mit der Modellkonvertierung mit Tensorfor 2.x hat."
      ]
    },
    {
      "cell_type": "code",
      "metadata": {
        "id": "UtGuHC4jYDn8",
        "colab_type": "code",
        "colab": {
          "base_uri": "https://localhost:8080/",
          "height": 814
        },
        "outputId": "0a689a98-8b1d-4ee6-c2e6-4843b9f6b404"
      },
      "source": [
        "!pip install tensorflow==1.15.2"
      ],
      "execution_count": 3,
      "outputs": [
        {
          "output_type": "stream",
          "text": [
            "Collecting tensorflow==1.15.2\n",
            "\u001b[?25l  Downloading https://files.pythonhosted.org/packages/9a/d9/fd234c7bf68638423fb8e7f44af7fcfce3bcaf416b51e6d902391e47ec43/tensorflow-1.15.2-cp36-cp36m-manylinux2010_x86_64.whl (110.5MB)\n",
            "\u001b[K     |████████████████████████████████| 110.5MB 78kB/s \n",
            "\u001b[?25hRequirement already satisfied: wheel>=0.26; python_version >= \"3\" in /usr/local/lib/python3.6/dist-packages (from tensorflow==1.15.2) (0.34.2)\n",
            "Requirement already satisfied: six>=1.10.0 in /usr/local/lib/python3.6/dist-packages (from tensorflow==1.15.2) (1.12.0)\n",
            "Requirement already satisfied: keras-applications>=1.0.8 in /usr/local/lib/python3.6/dist-packages (from tensorflow==1.15.2) (1.0.8)\n",
            "Requirement already satisfied: wrapt>=1.11.1 in /usr/local/lib/python3.6/dist-packages (from tensorflow==1.15.2) (1.12.1)\n",
            "Collecting tensorboard<1.16.0,>=1.15.0\n",
            "\u001b[?25l  Downloading https://files.pythonhosted.org/packages/1e/e9/d3d747a97f7188f48aa5eda486907f3b345cd409f0a0850468ba867db246/tensorboard-1.15.0-py3-none-any.whl (3.8MB)\n",
            "\u001b[K     |████████████████████████████████| 3.8MB 43.6MB/s \n",
            "\u001b[?25hRequirement already satisfied: absl-py>=0.7.0 in /usr/local/lib/python3.6/dist-packages (from tensorflow==1.15.2) (0.9.0)\n",
            "Requirement already satisfied: keras-preprocessing>=1.0.5 in /usr/local/lib/python3.6/dist-packages (from tensorflow==1.15.2) (1.1.0)\n",
            "Requirement already satisfied: grpcio>=1.8.6 in /usr/local/lib/python3.6/dist-packages (from tensorflow==1.15.2) (1.28.1)\n",
            "Requirement already satisfied: google-pasta>=0.1.6 in /usr/local/lib/python3.6/dist-packages (from tensorflow==1.15.2) (0.2.0)\n",
            "Requirement already satisfied: astor>=0.6.0 in /usr/local/lib/python3.6/dist-packages (from tensorflow==1.15.2) (0.8.1)\n",
            "Requirement already satisfied: numpy<2.0,>=1.16.0 in /usr/local/lib/python3.6/dist-packages (from tensorflow==1.15.2) (1.18.2)\n",
            "Requirement already satisfied: opt-einsum>=2.3.2 in /usr/local/lib/python3.6/dist-packages (from tensorflow==1.15.2) (3.2.0)\n",
            "Requirement already satisfied: protobuf>=3.6.1 in /usr/local/lib/python3.6/dist-packages (from tensorflow==1.15.2) (3.10.0)\n",
            "Collecting tensorflow-estimator==1.15.1\n",
            "\u001b[?25l  Downloading https://files.pythonhosted.org/packages/de/62/2ee9cd74c9fa2fa450877847ba560b260f5d0fb70ee0595203082dafcc9d/tensorflow_estimator-1.15.1-py2.py3-none-any.whl (503kB)\n",
            "\u001b[K     |████████████████████████████████| 512kB 41.6MB/s \n",
            "\u001b[?25hCollecting gast==0.2.2\n",
            "  Downloading https://files.pythonhosted.org/packages/4e/35/11749bf99b2d4e3cceb4d55ca22590b0d7c2c62b9de38ac4a4a7f4687421/gast-0.2.2.tar.gz\n",
            "Requirement already satisfied: termcolor>=1.1.0 in /usr/local/lib/python3.6/dist-packages (from tensorflow==1.15.2) (1.1.0)\n",
            "Requirement already satisfied: h5py in /usr/local/lib/python3.6/dist-packages (from keras-applications>=1.0.8->tensorflow==1.15.2) (2.10.0)\n",
            "Requirement already satisfied: markdown>=2.6.8 in /usr/local/lib/python3.6/dist-packages (from tensorboard<1.16.0,>=1.15.0->tensorflow==1.15.2) (3.2.1)\n",
            "Requirement already satisfied: setuptools>=41.0.0 in /usr/local/lib/python3.6/dist-packages (from tensorboard<1.16.0,>=1.15.0->tensorflow==1.15.2) (46.1.3)\n",
            "Requirement already satisfied: werkzeug>=0.11.15 in /usr/local/lib/python3.6/dist-packages (from tensorboard<1.16.0,>=1.15.0->tensorflow==1.15.2) (1.0.1)\n",
            "Building wheels for collected packages: gast\n",
            "  Building wheel for gast (setup.py) ... \u001b[?25l\u001b[?25hdone\n",
            "  Created wheel for gast: filename=gast-0.2.2-cp36-none-any.whl size=7540 sha256=dfd44d3033fa25710c49a1f354c2ac5b96532139cd72a2c42ce3ccf3b85f5cb3\n",
            "  Stored in directory: /root/.cache/pip/wheels/5c/2e/7e/a1d4d4fcebe6c381f378ce7743a3ced3699feb89bcfbdadadd\n",
            "Successfully built gast\n",
            "Installing collected packages: tensorboard, tensorflow-estimator, gast, tensorflow\n",
            "  Found existing installation: tensorboard 2.2.0\n",
            "    Uninstalling tensorboard-2.2.0:\n",
            "      Successfully uninstalled tensorboard-2.2.0\n",
            "  Found existing installation: tensorflow-estimator 2.2.0rc0\n",
            "    Uninstalling tensorflow-estimator-2.2.0rc0:\n",
            "      Successfully uninstalled tensorflow-estimator-2.2.0rc0\n",
            "  Found existing installation: gast 0.3.3\n",
            "    Uninstalling gast-0.3.3:\n",
            "      Successfully uninstalled gast-0.3.3\n",
            "  Found existing installation: tensorflow 2.2.0rc2\n",
            "    Uninstalling tensorflow-2.2.0rc2:\n",
            "      Successfully uninstalled tensorflow-2.2.0rc2\n",
            "Successfully installed gast-0.2.2 tensorboard-1.15.0 tensorflow-1.15.2 tensorflow-estimator-1.15.1\n"
          ],
          "name": "stdout"
        }
      ]
    },
    {
      "cell_type": "markdown",
      "metadata": {
        "id": "uyETlvxkmTho",
        "colab_type": "text"
      },
      "source": [
        "### Installation keras2onnx\n",
        "Im Folgenden werden die nötigen Bibliotheken installieren um das Keras Modell in ein ONNX-Modell zu konvertieren."
      ]
    },
    {
      "cell_type": "code",
      "metadata": {
        "id": "SDKDPp9nYXW7",
        "colab_type": "code",
        "colab": {
          "base_uri": "https://localhost:8080/",
          "height": 814
        },
        "outputId": "3651f4d4-5505-4a89-c787-fa426b4be27a"
      },
      "source": [
        "!pip install git+https://github.com/microsoft/onnxconverter-common\n",
        "!pip install git+https://github.com/onnx/keras-onnx"
      ],
      "execution_count": 4,
      "outputs": [
        {
          "output_type": "stream",
          "text": [
            "Collecting git+https://github.com/microsoft/onnxconverter-common\n",
            "  Cloning https://github.com/microsoft/onnxconverter-common to /tmp/pip-req-build-rpjmhymc\n",
            "  Running command git clone -q https://github.com/microsoft/onnxconverter-common /tmp/pip-req-build-rpjmhymc\n",
            "Requirement already satisfied: numpy in /usr/local/lib/python3.6/dist-packages (from onnxconverter-common==1.7.0) (1.18.2)\n",
            "Requirement already satisfied: protobuf in /usr/local/lib/python3.6/dist-packages (from onnxconverter-common==1.7.0) (3.10.0)\n",
            "Collecting onnx\n",
            "\u001b[?25l  Downloading https://files.pythonhosted.org/packages/f5/f4/e126b60d109ad1e80020071484b935980b7cce1e4796073aab086a2d6902/onnx-1.6.0-cp36-cp36m-manylinux1_x86_64.whl (4.8MB)\n",
            "\u001b[K     |████████████████████████████████| 4.8MB 3.4MB/s \n",
            "\u001b[?25hRequirement already satisfied: setuptools in /usr/local/lib/python3.6/dist-packages (from protobuf->onnxconverter-common==1.7.0) (46.1.3)\n",
            "Requirement already satisfied: six>=1.9 in /usr/local/lib/python3.6/dist-packages (from protobuf->onnxconverter-common==1.7.0) (1.12.0)\n",
            "Requirement already satisfied: typing-extensions>=3.6.2.1 in /usr/local/lib/python3.6/dist-packages (from onnx->onnxconverter-common==1.7.0) (3.6.6)\n",
            "Building wheels for collected packages: onnxconverter-common\n",
            "  Building wheel for onnxconverter-common (setup.py) ... \u001b[?25l\u001b[?25hdone\n",
            "  Created wheel for onnxconverter-common: filename=onnxconverter_common-1.7.0-py2.py3-none-any.whl size=55213 sha256=93dd6bf7f00ff8fc9048d0a48b062b73876825f10b0912dc78213a97b7e2c935\n",
            "  Stored in directory: /tmp/pip-ephem-wheel-cache-ymz0gpwp/wheels/7d/97/c7/8908efff309db78064933e54f2a70427a75ada73b9b19789c3\n",
            "Successfully built onnxconverter-common\n",
            "Installing collected packages: onnx, onnxconverter-common\n",
            "Successfully installed onnx-1.6.0 onnxconverter-common-1.7.0\n",
            "Collecting git+https://github.com/onnx/keras-onnx\n",
            "  Cloning https://github.com/onnx/keras-onnx to /tmp/pip-req-build-6yi3ww83\n",
            "  Running command git clone -q https://github.com/onnx/keras-onnx /tmp/pip-req-build-6yi3ww83\n",
            "Requirement already satisfied: numpy in /usr/local/lib/python3.6/dist-packages (from keras2onnx==1.7.0) (1.18.2)\n",
            "Requirement already satisfied: protobuf in /usr/local/lib/python3.6/dist-packages (from keras2onnx==1.7.0) (3.10.0)\n",
            "Requirement already satisfied: requests in /usr/local/lib/python3.6/dist-packages (from keras2onnx==1.7.0) (2.21.0)\n",
            "Requirement already satisfied: onnx in /usr/local/lib/python3.6/dist-packages (from keras2onnx==1.7.0) (1.6.0)\n",
            "Requirement already satisfied: onnxconverter-common>=1.7.0 in /usr/local/lib/python3.6/dist-packages (from keras2onnx==1.7.0) (1.7.0)\n",
            "Collecting fire\n",
            "\u001b[?25l  Downloading https://files.pythonhosted.org/packages/34/a7/0e22e70778aca01a52b9c899d9c145c6396d7b613719cd63db97ffa13f2f/fire-0.3.1.tar.gz (81kB)\n",
            "\u001b[K     |████████████████████████████████| 81kB 2.6MB/s \n",
            "\u001b[?25hRequirement already satisfied: six>=1.9 in /usr/local/lib/python3.6/dist-packages (from protobuf->keras2onnx==1.7.0) (1.12.0)\n",
            "Requirement already satisfied: setuptools in /usr/local/lib/python3.6/dist-packages (from protobuf->keras2onnx==1.7.0) (46.1.3)\n",
            "Requirement already satisfied: urllib3<1.25,>=1.21.1 in /usr/local/lib/python3.6/dist-packages (from requests->keras2onnx==1.7.0) (1.24.3)\n",
            "Requirement already satisfied: idna<2.9,>=2.5 in /usr/local/lib/python3.6/dist-packages (from requests->keras2onnx==1.7.0) (2.8)\n",
            "Requirement already satisfied: chardet<3.1.0,>=3.0.2 in /usr/local/lib/python3.6/dist-packages (from requests->keras2onnx==1.7.0) (3.0.4)\n",
            "Requirement already satisfied: certifi>=2017.4.17 in /usr/local/lib/python3.6/dist-packages (from requests->keras2onnx==1.7.0) (2020.4.5.1)\n",
            "Requirement already satisfied: typing-extensions>=3.6.2.1 in /usr/local/lib/python3.6/dist-packages (from onnx->keras2onnx==1.7.0) (3.6.6)\n",
            "Requirement already satisfied: termcolor in /usr/local/lib/python3.6/dist-packages (from fire->keras2onnx==1.7.0) (1.1.0)\n",
            "Building wheels for collected packages: keras2onnx, fire\n",
            "  Building wheel for keras2onnx (setup.py) ... \u001b[?25l\u001b[?25hdone\n",
            "  Created wheel for keras2onnx: filename=keras2onnx-1.7.0-cp36-none-any.whl size=91310 sha256=f2ed052c9d7205d7c3406d859831f96565e21b36888c230ed43f6cea894e5c2c\n",
            "  Stored in directory: /tmp/pip-ephem-wheel-cache-qko2ihds/wheels/2e/dc/ef/816c9dd4b8fb80d424ba7fa0df699f3e62b767df30519f39f5\n",
            "  Building wheel for fire (setup.py) ... \u001b[?25l\u001b[?25hdone\n",
            "  Created wheel for fire: filename=fire-0.3.1-py2.py3-none-any.whl size=111005 sha256=0302e02aa0b52511b3d78bbb976f56399e5a6991b9e50b8e51d6cfe6d32d017b\n",
            "  Stored in directory: /root/.cache/pip/wheels/c1/61/df/768b03527bf006b546dce284eb4249b185669e65afc5fbb2ac\n",
            "Successfully built keras2onnx fire\n",
            "Installing collected packages: fire, keras2onnx\n",
            "Successfully installed fire-0.3.1 keras2onnx-1.7.0\n"
          ],
          "name": "stdout"
        }
      ]
    },
    {
      "cell_type": "markdown",
      "metadata": {
        "id": "GL2C8G6SmfGX",
        "colab_type": "text"
      },
      "source": [
        "### Tutorial Quellcode installieren\n",
        "Der Quellcode aus den vorangegangenen Tutorials wird benötigt um das Keras Modell zu erzeugen."
      ]
    },
    {
      "cell_type": "code",
      "metadata": {
        "id": "2iSIXu4AZXX6",
        "colab_type": "code",
        "colab": {
          "base_uri": "https://localhost:8080/",
          "height": 133
        },
        "outputId": "1d5f4c32-a661-4c70-b1f4-6046ef33004e"
      },
      "source": [
        "%cd /content/\n",
        "!git clone https://github.com/rawar/ix-tut-yolov3.git"
      ],
      "execution_count": 7,
      "outputs": [
        {
          "output_type": "stream",
          "text": [
            "/content\n",
            "Cloning into 'ix-tut-yolov3'...\n",
            "remote: Enumerating objects: 87, done.\u001b[K\n",
            "remote: Counting objects: 100% (87/87), done.\u001b[K\n",
            "remote: Compressing objects: 100% (62/62), done.\u001b[K\n",
            "remote: Total 87 (delta 34), reused 73 (delta 22), pack-reused 0\u001b[K\n",
            "Unpacking objects: 100% (87/87), done.\n"
          ],
          "name": "stdout"
        }
      ]
    },
    {
      "cell_type": "code",
      "metadata": {
        "id": "D-mi1rpOZ7JZ",
        "colab_type": "code",
        "colab": {
          "base_uri": "https://localhost:8080/",
          "height": 117
        },
        "outputId": "7c7d4af4-d03a-4c24-c575-0e79be8dc381"
      },
      "source": [
        "%cd /content/ix-tut-yolov3\n",
        "!git clone https://github.com/rawar/ix-tut-yolov3-data.git"
      ],
      "execution_count": 11,
      "outputs": [
        {
          "output_type": "stream",
          "text": [
            "/content/ix-tut-yolov3\n",
            "Cloning into 'ix-tut-yolov3-data'...\n",
            "remote: Enumerating objects: 2672, done.\u001b[K\n",
            "remote: Total 2672 (delta 0), reused 0 (delta 0), pack-reused 2672\u001b[K\n",
            "Receiving objects: 100% (2672/2672), 52.62 MiB | 34.63 MiB/s, done.\n",
            "Resolving deltas: 100% (252/252), done.\n"
          ],
          "name": "stdout"
        }
      ]
    },
    {
      "cell_type": "code",
      "metadata": {
        "id": "X6R1XjBTZc00",
        "colab_type": "code",
        "colab": {
          "base_uri": "https://localhost:8080/",
          "height": 34
        },
        "outputId": "5935d074-2f54-4b7e-bc9c-9b895d635cda"
      },
      "source": [
        "%cd /content/ix-tut-yolov3"
      ],
      "execution_count": 12,
      "outputs": [
        {
          "output_type": "stream",
          "text": [
            "/content/ix-tut-yolov3\n"
          ],
          "name": "stdout"
        }
      ]
    },
    {
      "cell_type": "markdown",
      "metadata": {
        "id": "vW0MO1l3mp5X",
        "colab_type": "text"
      },
      "source": [
        "### Keras nach ONNX\n",
        "Der folgende Python-Code konvertiert das bestehende Keras-Modell in das Open Neuronal Network Exchange Format.\n"
      ]
    },
    {
      "cell_type": "markdown",
      "metadata": {
        "id": "HRcKVhZEnM4Z",
        "colab_type": "text"
      },
      "source": [
        "#### Referenzierung der nötigen Module\n",
        "Neben Tensorflow, und dem YOLOv3-Modell werden die Module onnx und keras2onnx referenziert."
      ]
    },
    {
      "cell_type": "code",
      "metadata": {
        "id": "LaGYZ2uBYgJk",
        "colab_type": "code",
        "colab": {}
      },
      "source": [
        "import os\n",
        "os.environ['TF_KERAS'] = '1'\n",
        "import onnx\n",
        "import tensorflow as tf\n",
        "from tensorflow.keras.layers import Input, Dense, Add\n",
        "from tensorflow.keras.models import Model\n",
        "from core.yolov3 import YOLOv3, decode\n",
        "import onnx\n",
        "import keras2onnx"
      ],
      "execution_count": 0,
      "outputs": []
    },
    {
      "cell_type": "markdown",
      "metadata": {
        "id": "OBgnW7yRnDb6",
        "colab_type": "text"
      },
      "source": [
        "#### Modell-Dateinamen definiere\n",
        "Die folgenden Dateinamen referenzieren auf die Modell-Datei und legen den Namen für die ONNX-Datei fest."
      ]
    },
    {
      "cell_type": "code",
      "metadata": {
        "id": "hBIL4WhMYjfV",
        "colab_type": "code",
        "colab": {}
      },
      "source": [
        "keras_model_filename = \"/content/drive/My Drive/data/ix-tut-model/starwars_yolov3\"\n",
        "onnx_model_filename = \"/content/drive/My Drive/data/ix-tut-model/starwars_yolov3.onnx\""
      ],
      "execution_count": 0,
      "outputs": []
    },
    {
      "cell_type": "markdown",
      "metadata": {
        "id": "o6v7CAE5oSIl",
        "colab_type": "text"
      },
      "source": [
        "#### Modell aufbauen\n",
        "Das Modell wird instantiiert und die trainierten Gewichte geladen."
      ]
    },
    {
      "cell_type": "code",
      "metadata": {
        "id": "HbqzjAYvY2EG",
        "colab_type": "code",
        "colab": {
          "base_uri": "https://localhost:8080/",
          "height": 87
        },
        "outputId": "24d83766-2308-455f-a85c-11bb7375d5ad"
      },
      "source": [
        "input_size   = 416\n",
        "input_layer  = tf.keras.layers.Input([input_size, input_size, 3])\n",
        "feature_maps = YOLOv3(input_layer)"
      ],
      "execution_count": 15,
      "outputs": [
        {
          "output_type": "stream",
          "text": [
            "WARNING:tensorflow:From /usr/local/lib/python3.6/dist-packages/tensorflow_core/python/ops/resource_variable_ops.py:1630: calling BaseResourceVariable.__init__ (from tensorflow.python.ops.resource_variable_ops) with constraint is deprecated and will be removed in a future version.\n",
            "Instructions for updating:\n",
            "If using Keras pass *_constraint arguments to layers.\n"
          ],
          "name": "stdout"
        }
      ]
    },
    {
      "cell_type": "code",
      "metadata": {
        "id": "N55E1KeUaNLt",
        "colab_type": "code",
        "colab": {}
      },
      "source": [
        "bbox_tensors = []\n",
        "for i, fm in enumerate(feature_maps):\n",
        "    bbox_tensor = decode(fm, i)\n",
        "    bbox_tensors.append(bbox_tensor)\n",
        "\n",
        "keras_model = tf.keras.Model(input_layer, bbox_tensors)"
      ],
      "execution_count": 0,
      "outputs": []
    },
    {
      "cell_type": "code",
      "metadata": {
        "id": "-eC-J9eOaR3O",
        "colab_type": "code",
        "colab": {
          "base_uri": "https://localhost:8080/",
          "height": 34
        },
        "outputId": "d277134e-6b86-4156-9590-7f1a4e5f8710"
      },
      "source": [
        "keras_model.load_weights(keras_model_filename)"
      ],
      "execution_count": 25,
      "outputs": [
        {
          "output_type": "execute_result",
          "data": {
            "text/plain": [
              "<tensorflow.python.training.tracking.util.CheckpointLoadStatus at 0x7f2039d89ba8>"
            ]
          },
          "metadata": {
            "tags": []
          },
          "execution_count": 25
        }
      ]
    },
    {
      "cell_type": "markdown",
      "metadata": {
        "id": "PpkE-BVkps1O",
        "colab_type": "text"
      },
      "source": [
        "#### Modell konvertieren\n",
        "Die folgenden beiden Zeilen führen die eigentliche Konvertierung durch und speichern das trainierte Modell im ONNX-Format."
      ]
    },
    {
      "cell_type": "code",
      "metadata": {
        "id": "E1tLiDIjaZpu",
        "colab_type": "code",
        "colab": {
          "base_uri": "https://localhost:8080/",
          "height": 34
        },
        "outputId": "4e1af1b6-123d-4096-f6fc-322604e559fc"
      },
      "source": [
        "onnx_model = keras2onnx.convert_keras(keras_model,keras_model.name)"
      ],
      "execution_count": 26,
      "outputs": [
        {
          "output_type": "stream",
          "text": [
            "The node number after optimization: 1497 -> 322\n"
          ],
          "name": "stderr"
        }
      ]
    },
    {
      "cell_type": "code",
      "metadata": {
        "id": "6UXeKyg2acRE",
        "colab_type": "code",
        "colab": {}
      },
      "source": [
        "onnx.save_model(onnx_model, onnx_model_filename)"
      ],
      "execution_count": 0,
      "outputs": []
    },
    {
      "cell_type": "markdown",
      "metadata": {
        "id": "-lIOjePFp8kz",
        "colab_type": "text"
      },
      "source": [
        "#### ONNX-Modell\n",
        "Das so erzeugte ONNX-Modell liegt auf dem GDrive neben dem bestehenden Keras-Modell."
      ]
    },
    {
      "cell_type": "code",
      "metadata": {
        "id": "tzJF3BuBb5Vj",
        "colab_type": "code",
        "colab": {
          "base_uri": "https://localhost:8080/",
          "height": 150
        },
        "outputId": "51e87ee1-700a-4af2-f363-cde52d5ad760"
      },
      "source": [
        "%cd /content/drive/My\\ Drive/data/ix-tut-model/\n",
        "!ls -ls"
      ],
      "execution_count": 28,
      "outputs": [
        {
          "output_type": "stream",
          "text": [
            "/content/drive/My Drive/data/ix-tut-model\n",
            "total 481240\n",
            "     4 drwx------ 3 root root      4096 Apr 13 10:57 old\n",
            "    58 -rw------- 1 root root     59145 Apr 13 11:47 starwars_yolov3.data-00000-of-00002\n",
            "240617 -rw------- 1 root root 246391528 Apr 13 11:47 starwars_yolov3.data-00001-of-00002\n",
            "    24 -rw------- 1 root root     24271 Apr 13 11:47 starwars_yolov3.index\n",
            "   175 -rw------- 1 root root    178754 Apr 13 11:47 starwars_yolov3.json\n",
            "240362 -rw------- 1 root root 246130069 Apr 13 12:06 starwars_yolov3.onnx\n"
          ],
          "name": "stdout"
        }
      ]
    },
    {
      "cell_type": "markdown",
      "metadata": {
        "id": "hVFAiN36qGvq",
        "colab_type": "text"
      },
      "source": [
        ""
      ]
    },
    {
      "cell_type": "markdown",
      "metadata": {
        "id": "huuR_s69qG9f",
        "colab_type": "text"
      },
      "source": [
        "#### ONNX-Tools\n",
        "Die ONNX-Bibliothek enthält noch weitere Tools für die Modell-Verarbeitung. Mit dem 'net_drawer.py' Skript lassen sich bestehende ONNX-Modell mit Hilfe der GraphViz-Bibliothek visualisieren."
      ]
    },
    {
      "cell_type": "code",
      "metadata": {
        "id": "BXk38mbmjc5E",
        "colab_type": "code",
        "colab": {}
      },
      "source": [
        "!python3 /usr/local/lib/python3.6/dist-packages/onnx/tools/net_drawer.py --input '/content/drive/My Drive/data/ix-tut-model/starwars_yolov3.onnx' --output '/content/drive/My Drive/data/ix-tut-model/starwars_yolov3.dot' --embed_docstring"
      ],
      "execution_count": 0,
      "outputs": []
    },
    {
      "cell_type": "code",
      "metadata": {
        "id": "s0t64vsIkhYO",
        "colab_type": "code",
        "colab": {}
      },
      "source": [
        "!dot -Tsvg '/content/drive/My Drive/data/ix-tut-model/starwars_yolov3.dot' -o '/content/drive/My Drive/data/ix-tut-model/starwars_yolov3.svg' "
      ],
      "execution_count": 0,
      "outputs": []
    }
  ]
}